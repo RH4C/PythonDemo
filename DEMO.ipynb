{
 "cells": [
  {
   "cell_type": "code",
   "execution_count": 2,
   "id": "adb4579c-ba4c-4eef-a3f4-9d498420457c",
   "metadata": {},
   "outputs": [],
   "source": [
    "secret_code = [777, \"crack\", \"tech\"]"
   ]
  },
  {
   "cell_type": "code",
   "execution_count": 3,
   "id": "350d7bfd-3f34-4ff0-8f26-c53679dea5b4",
   "metadata": {},
   "outputs": [
    {
     "data": {
      "text/plain": [
       "777"
      ]
     },
     "execution_count": 3,
     "metadata": {},
     "output_type": "execute_result"
    },
    {
     "ename": "",
     "evalue": "",
     "output_type": "error",
     "traceback": [
      "\u001b[1;31mThe Kernel crashed while executing code in the current cell or a previous cell. \n",
      "\u001b[1;31mPlease review the code in the cell(s) to identify a possible cause of the failure. \n",
      "\u001b[1;31mClick <a href='https://aka.ms/vscodeJupyterKernelCrash'>here</a> for more info. \n",
      "\u001b[1;31mView Jupyter <a href='command:jupyter.viewOutput'>log</a> for further details."
     ]
    }
   ],
   "source": [
    "secret_code [0]"
   ]
  },
  {
   "cell_type": "code",
   "execution_count": 4,
   "id": "d1c18566-b0dd-4f91-a118-6f08639843ca",
   "metadata": {},
   "outputs": [
    {
     "data": {
      "text/plain": [
       "'crack'"
      ]
     },
     "execution_count": 4,
     "metadata": {},
     "output_type": "execute_result"
    }
   ],
   "source": [
    "secret_code [1]"
   ]
  },
  {
   "cell_type": "code",
   "execution_count": 5,
   "id": "84e7273a-1eb3-4079-a266-8408424cbd13",
   "metadata": {},
   "outputs": [
    {
     "data": {
      "text/plain": [
       "'tech'"
      ]
     },
     "execution_count": 5,
     "metadata": {},
     "output_type": "execute_result"
    }
   ],
   "source": [
    "secret_code[2]"
   ]
  },
  {
   "cell_type": "code",
   "execution_count": 6,
   "id": "e3b3c57a-14c9-4fc5-bd0c-0ff0f7de1e54",
   "metadata": {},
   "outputs": [
    {
     "data": {
      "text/plain": [
       "3"
      ]
     },
     "execution_count": 6,
     "metadata": {},
     "output_type": "execute_result"
    }
   ],
   "source": [
    "len(secret_code)"
   ]
  },
  {
   "cell_type": "code",
   "execution_count": 7,
   "id": "c08b1c83-f518-4a77-bd8a-a2fa4117a2b3",
   "metadata": {},
   "outputs": [],
   "source": [
    "secret_code.append ( \"data\" )"
   ]
  },
  {
   "cell_type": "code",
   "execution_count": 8,
   "id": "b6e7df41-3bbf-40c6-8151-10a355f107c3",
   "metadata": {},
   "outputs": [
    {
     "data": {
      "text/plain": [
       "[777, 'crack', 'tech', 'data']"
      ]
     },
     "execution_count": 8,
     "metadata": {},
     "output_type": "execute_result"
    }
   ],
   "source": [
    "secret_code"
   ]
  },
  {
   "cell_type": "code",
   "execution_count": 10,
   "id": "02b05ce6-9400-4a31-abd2-bd5e0d24336c",
   "metadata": {},
   "outputs": [],
   "source": [
    "secret_code[3] = \"science\""
   ]
  },
  {
   "cell_type": "code",
   "execution_count": 11,
   "id": "1b4e98ed-425e-4914-b398-9fed91551c14",
   "metadata": {},
   "outputs": [
    {
     "data": {
      "text/plain": [
       "[777, 'crack', 'tech', 'science']"
      ]
     },
     "execution_count": 11,
     "metadata": {},
     "output_type": "execute_result"
    }
   ],
   "source": [
    "secret_code"
   ]
  },
  {
   "cell_type": "code",
   "execution_count": 12,
   "id": "c51a8485-ef3f-4f30-bfbc-356d56ace4d8",
   "metadata": {},
   "outputs": [],
   "source": [
    "my_list = [\"I\", \"am\", \"an\", \"awesome\", \"data\"]"
   ]
  },
  {
   "cell_type": "code",
   "execution_count": 13,
   "id": "53ebd27a-cf73-4c98-96a7-634d9063ee74",
   "metadata": {},
   "outputs": [
    {
     "data": {
      "text/plain": [
       "5"
      ]
     },
     "execution_count": 13,
     "metadata": {},
     "output_type": "execute_result"
    }
   ],
   "source": [
    "len(my_list)"
   ]
  },
  {
   "cell_type": "code",
   "execution_count": 15,
   "id": "b2484a67-74b7-44ff-8075-56deac5c9c3c",
   "metadata": {},
   "outputs": [],
   "source": [
    "my_list.append(\"Enginner\")"
   ]
  },
  {
   "cell_type": "code",
   "execution_count": 17,
   "id": "1a4853f2-0725-480d-b131-8c949e2548e0",
   "metadata": {},
   "outputs": [],
   "source": [
    "my_list[3] = \"Scientist\""
   ]
  },
  {
   "cell_type": "raw",
   "id": "5f360493-ddac-45f1-a482-1126878323d2",
   "metadata": {},
   "source": [
    "secret_codes = (777, \"crack\", \"tech\")"
   ]
  },
  {
   "cell_type": "code",
   "execution_count": 19,
   "id": "ca6ec6e8-1b1e-44ae-bd17-a7d71a2e047d",
   "metadata": {},
   "outputs": [
    {
     "data": {
      "text/plain": [
       "777"
      ]
     },
     "execution_count": 19,
     "metadata": {},
     "output_type": "execute_result"
    }
   ],
   "source": [
    "secret_code[0]"
   ]
  },
  {
   "cell_type": "code",
   "execution_count": 20,
   "id": "23b16559-ddbd-46c0-a44a-3f044fbb3551",
   "metadata": {},
   "outputs": [
    {
     "data": {
      "text/plain": [
       "4"
      ]
     },
     "execution_count": 20,
     "metadata": {},
     "output_type": "execute_result"
    }
   ],
   "source": [
    "len(secret_code)"
   ]
  },
  {
   "cell_type": "code",
   "execution_count": 21,
   "id": "bd1fb2a5-d784-468b-bd73-f5aaec47a663",
   "metadata": {},
   "outputs": [],
   "source": [
    "secret_code.append(\"data\")"
   ]
  },
  {
   "cell_type": "code",
   "execution_count": 22,
   "id": "3ecd4fbc-11f6-408e-a8d4-e96dd232f0c2",
   "metadata": {},
   "outputs": [
    {
     "data": {
      "text/plain": [
       "['__add__',\n",
       " '__class__',\n",
       " '__class_getitem__',\n",
       " '__contains__',\n",
       " '__delattr__',\n",
       " '__dir__',\n",
       " '__doc__',\n",
       " '__eq__',\n",
       " '__format__',\n",
       " '__ge__',\n",
       " '__getattribute__',\n",
       " '__getitem__',\n",
       " '__getnewargs__',\n",
       " '__getstate__',\n",
       " '__gt__',\n",
       " '__hash__',\n",
       " '__init__',\n",
       " '__init_subclass__',\n",
       " '__iter__',\n",
       " '__le__',\n",
       " '__len__',\n",
       " '__lt__',\n",
       " '__mul__',\n",
       " '__ne__',\n",
       " '__new__',\n",
       " '__reduce__',\n",
       " '__reduce_ex__',\n",
       " '__repr__',\n",
       " '__rmul__',\n",
       " '__setattr__',\n",
       " '__sizeof__',\n",
       " '__str__',\n",
       " '__subclasshook__',\n",
       " 'count',\n",
       " 'index']"
      ]
     },
     "execution_count": 22,
     "metadata": {},
     "output_type": "execute_result"
    }
   ],
   "source": [
    "dir(())"
   ]
  },
  {
   "cell_type": "code",
   "execution_count": 23,
   "id": "5cd1f4bf-5bb5-49f1-b04f-b299274ff12f",
   "metadata": {},
   "outputs": [
    {
     "data": {
      "text/plain": [
       "['__add__',\n",
       " '__class__',\n",
       " '__class_getitem__',\n",
       " '__contains__',\n",
       " '__delattr__',\n",
       " '__delitem__',\n",
       " '__dir__',\n",
       " '__doc__',\n",
       " '__eq__',\n",
       " '__format__',\n",
       " '__ge__',\n",
       " '__getattribute__',\n",
       " '__getitem__',\n",
       " '__getstate__',\n",
       " '__gt__',\n",
       " '__hash__',\n",
       " '__iadd__',\n",
       " '__imul__',\n",
       " '__init__',\n",
       " '__init_subclass__',\n",
       " '__iter__',\n",
       " '__le__',\n",
       " '__len__',\n",
       " '__lt__',\n",
       " '__mul__',\n",
       " '__ne__',\n",
       " '__new__',\n",
       " '__reduce__',\n",
       " '__reduce_ex__',\n",
       " '__repr__',\n",
       " '__reversed__',\n",
       " '__rmul__',\n",
       " '__setattr__',\n",
       " '__setitem__',\n",
       " '__sizeof__',\n",
       " '__str__',\n",
       " '__subclasshook__',\n",
       " 'append',\n",
       " 'clear',\n",
       " 'copy',\n",
       " 'count',\n",
       " 'extend',\n",
       " 'index',\n",
       " 'insert',\n",
       " 'pop',\n",
       " 'remove',\n",
       " 'reverse',\n",
       " 'sort']"
      ]
     },
     "execution_count": 23,
     "metadata": {},
     "output_type": "execute_result"
    }
   ],
   "source": [
    "dir([])"
   ]
  },
  {
   "cell_type": "code",
   "execution_count": 27,
   "id": "601a7d8d-6e64-4bd9-a442-85895e7371fd",
   "metadata": {},
   "outputs": [],
   "source": [
    "secret_code[2] = \"science\""
   ]
  },
  {
   "cell_type": "code",
   "execution_count": 33,
   "id": "bb751b3f-ac19-4c85-96ff-c66fb04f9294",
   "metadata": {},
   "outputs": [
    {
     "ename": "NameError",
     "evalue": "name 'a' is not defined",
     "output_type": "error",
     "traceback": [
      "\u001b[1;31m---------------------------------------------------------------------------\u001b[0m",
      "\u001b[1;31mNameError\u001b[0m                                 Traceback (most recent call last)",
      "Cell \u001b[1;32mIn[33], line 1\u001b[0m\n\u001b[1;32m----> 1\u001b[0m \u001b[38;5;28mprint\u001b[39m(a,b,c)\n",
      "\u001b[1;31mNameError\u001b[0m: name 'a' is not defined"
     ]
    }
   ],
   "source": [
    "print(a,b,c)"
   ]
  },
  {
   "cell_type": "code",
   "execution_count": 34,
   "id": "2a9b27ed-fe79-4eb3-be78-6a17d03d0f3b",
   "metadata": {},
   "outputs": [],
   "source": [
    "cityinformation = {\"name\": \"banggolore\", \"country\" : \"india\"}"
   ]
  },
  {
   "cell_type": "code",
   "execution_count": 35,
   "id": "4203a4b2-95e1-4635-9c8d-c21f9052ac4b",
   "metadata": {},
   "outputs": [],
   "source": [
    "secret_code = (777, \" crack\", \"tech\")"
   ]
  },
  {
   "cell_type": "code",
   "execution_count": 36,
   "id": "9207d0d3-7d85-4e48-8490-80f751e5f2da",
   "metadata": {},
   "outputs": [],
   "source": [
    "a, b, c = secret_code"
   ]
  },
  {
   "cell_type": "code",
   "execution_count": 37,
   "id": "46e14ae9-bae5-476f-843a-d2f58531b0f3",
   "metadata": {},
   "outputs": [
    {
     "data": {
      "text/plain": [
       "777"
      ]
     },
     "execution_count": 37,
     "metadata": {},
     "output_type": "execute_result"
    }
   ],
   "source": [
    "a"
   ]
  },
  {
   "cell_type": "code",
   "execution_count": 38,
   "id": "8a8a6bc8-ee43-46f7-9fb7-89d20f341e2b",
   "metadata": {},
   "outputs": [
    {
     "data": {
      "text/plain": [
       "' crack'"
      ]
     },
     "execution_count": 38,
     "metadata": {},
     "output_type": "execute_result"
    }
   ],
   "source": [
    "b"
   ]
  },
  {
   "cell_type": "code",
   "execution_count": 39,
   "id": "7be5911c-f23e-454c-80f9-29ebbb75bbd6",
   "metadata": {},
   "outputs": [
    {
     "data": {
      "text/plain": [
       "'tech'"
      ]
     },
     "execution_count": 39,
     "metadata": {},
     "output_type": "execute_result"
    }
   ],
   "source": [
    "c"
   ]
  },
  {
   "cell_type": "code",
   "execution_count": 40,
   "id": "7f36b0dc-4d7d-4cdb-910e-9dca4aafee61",
   "metadata": {},
   "outputs": [],
   "source": [
    "my_Tuple = (\"I\", \"like\", \"data\")"
   ]
  },
  {
   "cell_type": "code",
   "execution_count": 41,
   "id": "705ac081-a3dc-4e01-acfd-d802313fa122",
   "metadata": {},
   "outputs": [
    {
     "data": {
      "text/plain": [
       "3"
      ]
     },
     "execution_count": 41,
     "metadata": {},
     "output_type": "execute_result"
    }
   ],
   "source": [
    "len(my_Tuple)"
   ]
  },
  {
   "cell_type": "code",
   "execution_count": 42,
   "id": "d024edf7-d5f3-4001-aa6d-2d27d6d361b2",
   "metadata": {},
   "outputs": [
    {
     "data": {
      "text/plain": [
       "'like'"
      ]
     },
     "execution_count": 42,
     "metadata": {},
     "output_type": "execute_result"
    }
   ],
   "source": [
    "my_Tuple[1]"
   ]
  },
  {
   "cell_type": "code",
   "execution_count": 43,
   "id": "fa714466-9e55-4acd-8476-200d54c0b56e",
   "metadata": {},
   "outputs": [
    {
     "data": {
      "text/plain": [
       "'I'"
      ]
     },
     "execution_count": 43,
     "metadata": {},
     "output_type": "execute_result"
    }
   ],
   "source": [
    "my_Tuple[0]"
   ]
  },
  {
   "cell_type": "code",
   "execution_count": 45,
   "id": "749f0689-0a06-4a40-97c7-49b68557495a",
   "metadata": {},
   "outputs": [
    {
     "data": {
      "text/plain": [
       "'data'"
      ]
     },
     "execution_count": 45,
     "metadata": {},
     "output_type": "execute_result"
    }
   ],
   "source": [
    "my_Tuple[2]"
   ]
  },
  {
   "cell_type": "code",
   "execution_count": 46,
   "id": "69925dac-13bb-4e93-8531-50e1651503ba",
   "metadata": {},
   "outputs": [
    {
     "ename": "AttributeError",
     "evalue": "'tuple' object has no attribute 'append'",
     "output_type": "error",
     "traceback": [
      "\u001b[1;31m---------------------------------------------------------------------------\u001b[0m",
      "\u001b[1;31mAttributeError\u001b[0m                            Traceback (most recent call last)",
      "Cell \u001b[1;32mIn[46], line 1\u001b[0m\n\u001b[1;32m----> 1\u001b[0m my_Tuple\u001b[38;5;241m.\u001b[39mappend(\u001b[38;5;124m\"\u001b[39m\u001b[38;5;124mscience\u001b[39m\u001b[38;5;124m\"\u001b[39m)\n",
      "\u001b[1;31mAttributeError\u001b[0m: 'tuple' object has no attribute 'append'"
     ]
    }
   ],
   "source": [
    "my_Tuple.append(\"science\")"
   ]
  },
  {
   "cell_type": "code",
   "execution_count": 47,
   "id": "a86a644e-8543-4f95-8293-bf087e3afc18",
   "metadata": {},
   "outputs": [],
   "source": [
    "cityInformation = {\"name\": \"Bangalore\", \"country\": \"India\"}"
   ]
  },
  {
   "cell_type": "code",
   "execution_count": 49,
   "id": "e92bac27-b199-47d2-98c8-a7e08286a0b4",
   "metadata": {},
   "outputs": [
    {
     "data": {
      "text/plain": [
       "'Bangalore'"
      ]
     },
     "execution_count": 49,
     "metadata": {},
     "output_type": "execute_result"
    }
   ],
   "source": [
    "cityInformation[\"name\"]"
   ]
  },
  {
   "cell_type": "code",
   "execution_count": 50,
   "id": "55312464-ec96-4863-9004-acaf8c75deab",
   "metadata": {},
   "outputs": [
    {
     "data": {
      "text/plain": [
       "'India'"
      ]
     },
     "execution_count": 50,
     "metadata": {},
     "output_type": "execute_result"
    }
   ],
   "source": [
    "cityInformation[\"country\"]"
   ]
  },
  {
   "cell_type": "code",
   "execution_count": 51,
   "id": "eb8b62be-92d7-4f66-b2ae-5f2e39eb30dd",
   "metadata": {},
   "outputs": [],
   "source": [
    "cityInformation[\"population\"]= 12.5"
   ]
  },
  {
   "cell_type": "code",
   "execution_count": 52,
   "id": "18bb0755-81a0-408c-8de4-463e54106220",
   "metadata": {},
   "outputs": [
    {
     "data": {
      "text/plain": [
       "{'name': 'Bangalore', 'country': 'India', 'population': 12.5}"
      ]
     },
     "execution_count": 52,
     "metadata": {},
     "output_type": "execute_result"
    }
   ],
   "source": [
    "cityInformation"
   ]
  },
  {
   "cell_type": "code",
   "execution_count": 53,
   "id": "67114044-203e-478f-be3c-aa04598c34c5",
   "metadata": {},
   "outputs": [],
   "source": [
    "del cityInformation[\"population\"]"
   ]
  },
  {
   "cell_type": "code",
   "execution_count": 54,
   "id": "c9cca564-4f5b-4319-a5cf-bb93b23f91ed",
   "metadata": {},
   "outputs": [
    {
     "data": {
      "text/plain": [
       "{'name': 'Bangalore', 'country': 'India'}"
      ]
     },
     "execution_count": 54,
     "metadata": {},
     "output_type": "execute_result"
    }
   ],
   "source": [
    "cityInformation"
   ]
  },
  {
   "cell_type": "code",
   "execution_count": 60,
   "id": "ef1d4ab9-4c78-48ef-8018-bdbc3ed2443e",
   "metadata": {},
   "outputs": [],
   "source": [
    "myinfo = {\"name\": \"clovert\", \"age\": 45, \"highestQualification\": \"MSC\"}"
   ]
  },
  {
   "cell_type": "code",
   "execution_count": 61,
   "id": "e067a5e3-4158-47a8-ba13-202ed6e8b2b7",
   "metadata": {},
   "outputs": [
    {
     "data": {
      "text/plain": [
       "'MSC'"
      ]
     },
     "execution_count": 61,
     "metadata": {},
     "output_type": "execute_result"
    }
   ],
   "source": [
    "myinfo[\"highestQualification\"]"
   ]
  },
  {
   "cell_type": "code",
   "execution_count": 63,
   "id": "893eaf50-35c8-4758-bdb4-b98fdb83bcdc",
   "metadata": {},
   "outputs": [],
   "source": [
    "myinfo = [\"Hamburg\"]"
   ]
  },
  {
   "cell_type": "code",
   "execution_count": 64,
   "id": "a5b92ec6-781a-4bfc-aa79-1d995e2b3cb7",
   "metadata": {},
   "outputs": [
    {
     "data": {
      "text/plain": [
       "['Hamburg']"
      ]
     },
     "execution_count": 64,
     "metadata": {},
     "output_type": "execute_result"
    }
   ],
   "source": [
    "myinfo"
   ]
  },
  {
   "cell_type": "code",
   "execution_count": null,
   "id": "bf386de5-d6f9-42b8-90dd-b65bc1ed0bfc",
   "metadata": {},
   "outputs": [],
   "source": []
  }
 ],
 "metadata": {
  "kernelspec": {
   "display_name": "Python 3 (ipykernel)",
   "language": "python",
   "name": "python3"
  },
  "language_info": {
   "codemirror_mode": {
    "name": "ipython",
    "version": 3
   },
   "file_extension": ".py",
   "mimetype": "text/x-python",
   "name": "python",
   "nbconvert_exporter": "python",
   "pygments_lexer": "ipython3",
   "version": "3.11.9"
  }
 },
 "nbformat": 4,
 "nbformat_minor": 5
}
